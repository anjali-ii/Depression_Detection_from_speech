{
  "cells": [
    {
      "cell_type": "markdown",
      "metadata": {
        "id": "view-in-github",
        "colab_type": "text"
      },
      "source": [
        "<a href=\"https://colab.research.google.com/github/anjali-ii/Depression_Detection_from_speech/blob/main/Speech.ipynb\" target=\"_parent\"><img src=\"https://colab.research.google.com/assets/colab-badge.svg\" alt=\"Open In Colab\"/></a>"
      ]
    },
    {
      "cell_type": "code",
      "execution_count": 2,
      "metadata": {
        "colab": {
          "base_uri": "https://localhost:8080/"
        },
        "id": "fgwdrBIsKq02",
        "outputId": "82cd5d25-1ef1-435e-d29e-fe136506c5b1"
      },
      "outputs": [
        {
          "output_type": "stream",
          "name": "stdout",
          "text": [
            "Mounted at /content/drive\n"
          ]
        }
      ],
      "source": [
        "from google.colab import drive\n",
        "drive.mount('/content/drive')"
      ]
    },
    {
      "cell_type": "code",
      "execution_count": 3,
      "metadata": {
        "id": "kt5LIhXuLK6h"
      },
      "outputs": [],
      "source": [
        "# Define the directory where your audio files are stored\n",
        "base_dir = '/content/drive/My Drive/Audio'"
      ]
    },
    {
      "cell_type": "code",
      "execution_count": 4,
      "metadata": {
        "colab": {
          "base_uri": "https://localhost:8080/"
        },
        "id": "lv6XmEErOJch",
        "outputId": "e3c4c0c7-4b11-4cbb-ea99-d1147c366250"
      },
      "outputs": [
        {
          "output_type": "stream",
          "name": "stdout",
          "text": [
            "Collecting pydub\n",
            "  Downloading pydub-0.25.1-py2.py3-none-any.whl (32 kB)\n",
            "Installing collected packages: pydub\n",
            "Successfully installed pydub-0.25.1\n"
          ]
        }
      ],
      "source": [
        "pip install pydub"
      ]
    },
    {
      "cell_type": "code",
      "execution_count": 5,
      "metadata": {
        "colab": {
          "base_uri": "https://localhost:8080/"
        },
        "id": "6DYWPB-dOLLr",
        "outputId": "c4e8ebd8-ec70-48b3-ee8d-2dd0aa462286"
      },
      "outputs": [
        {
          "output_type": "stream",
          "name": "stdout",
          "text": [
            "Collecting pyworld\n",
            "  Downloading pyworld-0.3.4.tar.gz (251 kB)\n",
            "\u001b[?25l     \u001b[90m━━━━━━━━━━━━━━━━━━━━━━━━━━━━━━━━━━━━━━━━\u001b[0m \u001b[32m0.0/252.0 kB\u001b[0m \u001b[31m?\u001b[0m eta \u001b[36m-:--:--\u001b[0m\r\u001b[2K     \u001b[90m━━━━━━━━━━━━━━━━━━━━━━━━━━━━━━━━━━━━━━━━\u001b[0m \u001b[32m252.0/252.0 kB\u001b[0m \u001b[31m8.6 MB/s\u001b[0m eta \u001b[36m0:00:00\u001b[0m\n",
            "\u001b[?25h  Installing build dependencies ... \u001b[?25l\u001b[?25hdone\n",
            "  Getting requirements to build wheel ... \u001b[?25l\u001b[?25hdone\n",
            "  Preparing metadata (pyproject.toml) ... \u001b[?25l\u001b[?25hdone\n",
            "Requirement already satisfied: numpy in /usr/local/lib/python3.10/dist-packages (from pyworld) (1.25.2)\n",
            "Requirement already satisfied: cython>=0.24 in /usr/local/lib/python3.10/dist-packages (from pyworld) (3.0.8)\n",
            "Building wheels for collected packages: pyworld\n",
            "  Building wheel for pyworld (pyproject.toml) ... \u001b[?25l\u001b[?25hdone\n",
            "  Created wheel for pyworld: filename=pyworld-0.3.4-cp310-cp310-linux_x86_64.whl size=865290 sha256=4cc5218d3086e9bdc19fab65c8013bbe771809bee387f3ee0cf4d7f37d6e016a\n",
            "  Stored in directory: /root/.cache/pip/wheels/66/09/8a/a1d79b73d59756f66e9bfe55a199840efc7473adb76ddacdfd\n",
            "Successfully built pyworld\n",
            "Installing collected packages: pyworld\n",
            "Successfully installed pyworld-0.3.4\n"
          ]
        }
      ],
      "source": [
        "pip install pyworld"
      ]
    },
    {
      "cell_type": "code",
      "execution_count": 6,
      "metadata": {
        "id": "wCBBLarDLVwn"
      },
      "outputs": [],
      "source": [
        "import os\n",
        "import numpy as np\n",
        "from pydub import AudioSegment\n",
        "import librosa\n",
        "import pandas as pd\n",
        "import pyworld as pw\n",
        "import matplotlib.pyplot as plt\n",
        "import warnings"
      ]
    },
    {
      "cell_type": "code",
      "execution_count": 7,
      "metadata": {
        "id": "_YasU9Lo71o7"
      },
      "outputs": [],
      "source": [
        "# Define parameters for feature extraction\n",
        "frame_length = 0.050  # Frame length in seconds\n",
        "hop_length = 0.030    # Hop length (frame shift) in seconds\n",
        "n_mels = 36           # Number of Mel bands\n",
        "fs = 16000"
      ]
    },
    {
      "cell_type": "code",
      "execution_count": 8,
      "metadata": {
        "id": "HvNYsZSH4qTU"
      },
      "outputs": [],
      "source": [
        "# Suppress UserWarning from librosa\n",
        "warnings.filterwarnings(\"ignore\", message=\"PySoundFile failed. Trying audioread instead.\")"
      ]
    },
    {
      "cell_type": "code",
      "execution_count": 9,
      "metadata": {
        "colab": {
          "base_uri": "https://localhost:8080/"
        },
        "id": "MwYjs0jw88nP",
        "outputId": "eedff3aa-6f9e-4701-f72f-77f5c4560dae"
      },
      "outputs": [
        {
          "output_type": "stream",
          "name": "stdout",
          "text": [
            "Requirement already satisfied: librosa in /usr/local/lib/python3.10/dist-packages (0.10.1)\n",
            "Requirement already satisfied: audioread>=2.1.9 in /usr/local/lib/python3.10/dist-packages (from librosa) (3.0.1)\n",
            "Requirement already satisfied: numpy!=1.22.0,!=1.22.1,!=1.22.2,>=1.20.3 in /usr/local/lib/python3.10/dist-packages (from librosa) (1.25.2)\n",
            "Requirement already satisfied: scipy>=1.2.0 in /usr/local/lib/python3.10/dist-packages (from librosa) (1.11.4)\n",
            "Requirement already satisfied: scikit-learn>=0.20.0 in /usr/local/lib/python3.10/dist-packages (from librosa) (1.2.2)\n",
            "Requirement already satisfied: joblib>=0.14 in /usr/local/lib/python3.10/dist-packages (from librosa) (1.3.2)\n",
            "Requirement already satisfied: decorator>=4.3.0 in /usr/local/lib/python3.10/dist-packages (from librosa) (4.4.2)\n",
            "Requirement already satisfied: numba>=0.51.0 in /usr/local/lib/python3.10/dist-packages (from librosa) (0.58.1)\n",
            "Requirement already satisfied: soundfile>=0.12.1 in /usr/local/lib/python3.10/dist-packages (from librosa) (0.12.1)\n",
            "Requirement already satisfied: pooch>=1.0 in /usr/local/lib/python3.10/dist-packages (from librosa) (1.8.1)\n",
            "Requirement already satisfied: soxr>=0.3.2 in /usr/local/lib/python3.10/dist-packages (from librosa) (0.3.7)\n",
            "Requirement already satisfied: typing-extensions>=4.1.1 in /usr/local/lib/python3.10/dist-packages (from librosa) (4.10.0)\n",
            "Requirement already satisfied: lazy-loader>=0.1 in /usr/local/lib/python3.10/dist-packages (from librosa) (0.3)\n",
            "Requirement already satisfied: msgpack>=1.0 in /usr/local/lib/python3.10/dist-packages (from librosa) (1.0.7)\n",
            "Requirement already satisfied: llvmlite<0.42,>=0.41.0dev0 in /usr/local/lib/python3.10/dist-packages (from numba>=0.51.0->librosa) (0.41.1)\n",
            "Requirement already satisfied: platformdirs>=2.5.0 in /usr/local/lib/python3.10/dist-packages (from pooch>=1.0->librosa) (4.2.0)\n",
            "Requirement already satisfied: packaging>=20.0 in /usr/local/lib/python3.10/dist-packages (from pooch>=1.0->librosa) (23.2)\n",
            "Requirement already satisfied: requests>=2.19.0 in /usr/local/lib/python3.10/dist-packages (from pooch>=1.0->librosa) (2.31.0)\n",
            "Requirement already satisfied: threadpoolctl>=2.0.0 in /usr/local/lib/python3.10/dist-packages (from scikit-learn>=0.20.0->librosa) (3.3.0)\n",
            "Requirement already satisfied: cffi>=1.0 in /usr/local/lib/python3.10/dist-packages (from soundfile>=0.12.1->librosa) (1.16.0)\n",
            "Requirement already satisfied: pycparser in /usr/local/lib/python3.10/dist-packages (from cffi>=1.0->soundfile>=0.12.1->librosa) (2.21)\n",
            "Requirement already satisfied: charset-normalizer<4,>=2 in /usr/local/lib/python3.10/dist-packages (from requests>=2.19.0->pooch>=1.0->librosa) (3.3.2)\n",
            "Requirement already satisfied: idna<4,>=2.5 in /usr/local/lib/python3.10/dist-packages (from requests>=2.19.0->pooch>=1.0->librosa) (3.6)\n",
            "Requirement already satisfied: urllib3<3,>=1.21.1 in /usr/local/lib/python3.10/dist-packages (from requests>=2.19.0->pooch>=1.0->librosa) (2.0.7)\n",
            "Requirement already satisfied: certifi>=2017.4.17 in /usr/local/lib/python3.10/dist-packages (from requests>=2.19.0->pooch>=1.0->librosa) (2024.2.2)\n"
          ]
        }
      ],
      "source": [
        "pip install --upgrade librosa"
      ]
    },
    {
      "cell_type": "code",
      "execution_count": 10,
      "metadata": {
        "colab": {
          "base_uri": "https://localhost:8080/"
        },
        "id": "5VmVgD6U9RP-",
        "outputId": "874867b6-ddaf-4aef-a719-c05dc41ee27b"
      },
      "outputs": [
        {
          "output_type": "stream",
          "name": "stdout",
          "text": [
            "Requirement already satisfied: audioread in /usr/local/lib/python3.10/dist-packages (3.0.1)\n"
          ]
        }
      ],
      "source": [
        "pip install audioread"
      ]
    },
    {
      "cell_type": "code",
      "execution_count": 11,
      "metadata": {
        "id": "HkgJlw8d9XM7"
      },
      "outputs": [],
      "source": [
        "# Suppress the warning\n",
        "warnings.filterwarnings('ignore', message='Deprecated as of librosa version 0.10.0.')"
      ]
    },
    {
      "cell_type": "code",
      "execution_count": 12,
      "metadata": {
        "id": "rC5AxH5i-HWX"
      },
      "outputs": [],
      "source": [
        "# Suppress the FutureWarning\n",
        "warnings.filterwarnings('ignore', category=FutureWarning)"
      ]
    },
    {
      "cell_type": "code",
      "execution_count": 13,
      "metadata": {
        "id": "0ZLQxme57vKs"
      },
      "outputs": [],
      "source": [
        "frame_features = []\n",
        "participant_ids=[]\n",
        "# Iterate over each audio file\n",
        "for root, dirs, files in os.walk(base_dir):\n",
        "    for file in files:\n",
        "        if file.endswith('.m4a'):\n",
        "            # Construct the path to the audio file\n",
        "            audio_path = os.path.join(root, file)\n",
        "            #print(f\"Processing audio file: {audio_path}\")\n",
        "\n",
        "            # Load audio file\n",
        "            audio, sr = librosa.load(audio_path, mono=True)\n",
        "\n",
        "            # Resample to 16 kHz\n",
        "            target_sr = 16000\n",
        "            audio_resampled = librosa.resample(audio, orig_sr=sr, target_sr=target_sr)\n",
        "\n",
        "            frame = audio_resampled.astype(np.double)\n",
        "            f0, timeaxis = pw.harvest(frame, fs, frame_period=30)\n",
        "            sp = pw.cheaptrick(frame, f0, timeaxis, fs)\n",
        "            ap = pw.d4c(frame, f0, timeaxis,fs)\n",
        "            ap_aggregated = np.mean(ap, axis=1)\n",
        "            # Calculate Mel filter bank features\n",
        "            mfb = pw.code_spectral_envelope(sp, fs, n_mels)\n",
        "\n",
        "            # Ensure all arrays have the same number of frames\n",
        "            min_frames = min(mfb.shape[0], f0.shape[0], ap_aggregated.shape[0])\n",
        "            mfb = mfb[:min_frames]\n",
        "            f0 = f0[:min_frames]\n",
        "            ap_aggregated = ap_aggregated[:min_frames]\n",
        "\n",
        "            # Standardization (Mean-variance normalization)\n",
        "            f0_mean = np.mean(f0)\n",
        "            f0_std = np.std(f0)\n",
        "            f0_normalized = (f0 - f0_mean) / f0_std\n",
        "\n",
        "            ap_aggregated_mean = np.mean(ap_aggregated)\n",
        "            ap_aggregated_std = np.std(ap_aggregated)\n",
        "            ap_aggregated_normalized = (ap_aggregated - ap_aggregated_mean) / ap_aggregated_std\n",
        "\n",
        "            mel_filter_bank_mean = np.mean(mfb, axis=0)\n",
        "            mel_filter_bank_std = np.std(mfb, axis=0)\n",
        "            mel_filter_bank_normalized = (mfb - mel_filter_bank_mean) / mel_filter_bank_std\n",
        "\n",
        "            # Append features to the list\n",
        "            frame_features.append(np.concatenate([mel_filter_bank_normalized, f0_normalized[:, np.newaxis], ap_aggregated_normalized[:, np.newaxis]], axis=1))\n",
        "            participant_ids.append(os.path.basename(root))"
      ]
    },
    {
      "cell_type": "code",
      "source": [
        "print(len(frame_features))\n",
        "for i in range(len(frame_features)):\n",
        "   a = frame_features[i]\n",
        "   print(participant_ids[i])\n",
        "print(len(participant_ids))"
      ],
      "metadata": {
        "id": "ylr4FcyPT5Iz",
        "colab": {
          "base_uri": "https://localhost:8080/"
        },
        "outputId": "5121506a-4e36-487e-c992-a3d904731924"
      },
      "execution_count": 14,
      "outputs": [
        {
          "output_type": "stream",
          "name": "stdout",
          "text": [
            "90\n",
            "P77\n",
            "P77\n",
            "P77\n",
            "P77\n",
            "P77\n",
            "P77\n",
            "P77\n",
            "P77\n",
            "P77\n",
            "P77\n",
            "P77\n",
            "P77\n",
            "P77\n",
            "P77\n",
            "P77\n",
            "P5\n",
            "P5\n",
            "P5\n",
            "P5\n",
            "P5\n",
            "P5\n",
            "P5\n",
            "P5\n",
            "P5\n",
            "P5\n",
            "P5\n",
            "P5\n",
            "P5\n",
            "P5\n",
            "P5\n",
            "P149\n",
            "P149\n",
            "P149\n",
            "P149\n",
            "P149\n",
            "P149\n",
            "P149\n",
            "P149\n",
            "P149\n",
            "P149\n",
            "P149\n",
            "P149\n",
            "P149\n",
            "P149\n",
            "P149\n",
            "P4\n",
            "P4\n",
            "P4\n",
            "P4\n",
            "P4\n",
            "P4\n",
            "P4\n",
            "P4\n",
            "P4\n",
            "P4\n",
            "P4\n",
            "P4\n",
            "P4\n",
            "P4\n",
            "P4\n",
            "P43\n",
            "P43\n",
            "P43\n",
            "P43\n",
            "P43\n",
            "P43\n",
            "P43\n",
            "P43\n",
            "P43\n",
            "P43\n",
            "P43\n",
            "P43\n",
            "P43\n",
            "P43\n",
            "P43\n",
            "P15\n",
            "P15\n",
            "P15\n",
            "P15\n",
            "P15\n",
            "P15\n",
            "P15\n",
            "P15\n",
            "P15\n",
            "P15\n",
            "P15\n",
            "P15\n",
            "P15\n",
            "P15\n",
            "P15\n",
            "90\n"
          ]
        }
      ]
    },
    {
      "cell_type": "code",
      "source": [
        "participant_ids=[]\n",
        "# Iterate over each audio file\n",
        "for root, dirs, files in os.walk(base_dir):\n",
        "    for file in files:\n",
        "      participant_ids.append(os.path.basename(root))\n",
        "participant_ids"
      ],
      "metadata": {
        "id": "piORIeFYmCb0"
      },
      "execution_count": null,
      "outputs": []
    },
    {
      "cell_type": "code",
      "execution_count": 15,
      "metadata": {
        "id": "Wm83OCNSoUlL"
      },
      "outputs": [],
      "source": [
        "# Load severity scores from Excel sheet\n",
        "file_path = '/content/drive/My Drive/PHQ.xlsx'\n",
        "severity_scores_df = pd.read_excel(file_path)"
      ]
    },
    {
      "cell_type": "code",
      "execution_count": 16,
      "metadata": {
        "colab": {
          "base_uri": "https://localhost:8080/"
        },
        "id": "OOOtt3nTrHYz",
        "outputId": "2f028da1-eb25-4eb5-bd5a-1f8a3832039b"
      },
      "outputs": [
        {
          "output_type": "stream",
          "name": "stdout",
          "text": [
            "[8, 8, 8, 8, 8, 8, 8, 8, 8, 8, 8, 8, 8, 8, 8, 13, 13, 13, 13, 13, 13, 13, 13, 13, 13, 13, 13, 13, 13, 13, 19, 19, 19, 19, 19, 19, 19, 19, 19, 19, 19, 19, 19, 19, 19, 1, 1, 1, 1, 1, 1, 1, 1, 1, 1, 1, 1, 1, 1, 1, 21, 21, 21, 21, 21, 21, 21, 21, 21, 21, 21, 21, 21, 21, 21, 25, 25, 25, 25, 25, 25, 25, 25, 25, 25, 25, 25, 25, 25, 25]\n",
            "[1, 1, 1, 1, 1, 1, 1, 1, 1, 1, 1, 1, 1, 1, 1, 2, 2, 2, 2, 2, 2, 2, 2, 2, 2, 2, 2, 2, 2, 2, 3, 3, 3, 3, 3, 3, 3, 3, 3, 3, 3, 3, 3, 3, 3, 0, 0, 0, 0, 0, 0, 0, 0, 0, 0, 0, 0, 0, 0, 0, 4, 4, 4, 4, 4, 4, 4, 4, 4, 4, 4, 4, 4, 4, 4, 4, 4, 4, 4, 4, 4, 4, 4, 4, 4, 4, 4, 4, 4, 4]\n"
          ]
        }
      ],
      "source": [
        "# Initialize lists for scores and categories\n",
        "scores = []\n",
        "categories = []\n",
        "\n",
        "# Iterate over each participant ID in p_id list\n",
        "for p_id in participant_ids:\n",
        "    # Find corresponding row in severity_scores_df\n",
        "    row = severity_scores_df[severity_scores_df['P_id'] == p_id]\n",
        "\n",
        "    # Check if participant ID exists in severity_scores_df\n",
        "    if not row.empty:\n",
        "        # Extract score and category\n",
        "        score = row['Score'].iloc[0]  # Assuming 'Score' is the column containing scores\n",
        "        category = row['Category'].iloc[0]  # Assuming 'Category' is the column containing categories\n",
        "\n",
        "        # Append score and category to the respective lists\n",
        "        scores.append(score)\n",
        "        categories.append(category)\n",
        "    else:\n",
        "        # If participant ID not found, append None to scores and categories lists\n",
        "        scores.append(None)\n",
        "        categories.append(None)\n",
        "\n",
        "# Check the first few elements of scores and categories lists\n",
        "print(scores)\n",
        "print(categories)\n"
      ]
    },
    {
      "cell_type": "code",
      "source": [
        "import scipy.io\n",
        "data={'Features':frame_features, 'P_id':participant_ids, 'Score':scores, 'Category':categories}\n",
        "path=\"ap_f0_mfb_features.mat\"\n",
        "scipy.io.savemat(path,data)"
      ],
      "metadata": {
        "id": "4KWuQ765jW2F"
      },
      "execution_count": 17,
      "outputs": []
    },
    {
      "cell_type": "code",
      "execution_count": 18,
      "metadata": {
        "id": "EhM0py8usxDJ",
        "colab": {
          "base_uri": "https://localhost:8080/"
        },
        "outputId": "207137bd-b7ed-4fb5-dde1-5133714a81b3"
      },
      "outputs": [
        {
          "output_type": "execute_result",
          "data": {
            "text/plain": [
              "dict_keys(['__header__', '__version__', '__globals__', 'Features', 'P_id', 'Score', 'Category'])"
            ]
          },
          "metadata": {},
          "execution_count": 18
        }
      ],
      "source": [
        "df=scipy.io.loadmat(path)\n",
        "df.keys()"
      ]
    },
    {
      "cell_type": "code",
      "source": [
        "features = np.hstack(df['Features'])\n",
        "label1 = np.hstack(df['Score'])\n",
        "label2 = np.hstack(df['Category'])"
      ],
      "metadata": {
        "id": "CGd0NaFN2HZB"
      },
      "execution_count": 91,
      "outputs": []
    },
    {
      "cell_type": "code",
      "source": [
        "print(label.shape)\n",
        "print(features.shape)\n",
        "for i in range(90):\n",
        "  print(features[i].shape)\n",
        "  print(label[i])"
      ],
      "metadata": {
        "id": "0xpbXIVhvbMs"
      },
      "execution_count": null,
      "outputs": []
    },
    {
      "cell_type": "code",
      "source": [
        "# Define the segment length\n",
        "segment_length = 100  # Choose a suitable segment length based on your data\n",
        "\n",
        "# Initialize lists to store segmented features and labels\n",
        "segmented_features = []\n",
        "segmented_label1 = []\n",
        "segmented_label2 =[]\n",
        "\n",
        "# Iterate over each audio clip\n",
        "for i in range(len(features)):\n",
        "    # Get the current audio clip and its corresponding label\n",
        "    current_features = features[i]\n",
        "    current_label1 = label1[i]\n",
        "    current_label2 = label2[i]\n",
        "\n",
        "    # Calculate the number of segments for this audio clip\n",
        "    num_segments = len(current_features) // segment_length\n",
        "\n",
        "    # Iterate over each segment\n",
        "    for j in range(num_segments):\n",
        "        # Calculate the start and end indices for the current segment\n",
        "        start_idx = j * segment_length\n",
        "        end_idx = start_idx + segment_length\n",
        "\n",
        "        # Extract the segment of features and its corresponding label\n",
        "        segment_features = current_features[start_idx:end_idx]\n",
        "\n",
        "        # Append the segmented features and label to the lists\n",
        "        segmented_features.append(segment_features)\n",
        "        segmented_label1.append(current_label1)\n",
        "        segmented_label2.append(current_label2)\n",
        "\n",
        "# Convert the segmented features and labels to numpy arrays\n",
        "segmented_features = np.array(segmented_features)\n",
        "regression_label = np.array(segmented_label1)\n",
        "classification_label = np.array(segmented_label2)\n",
        "\n",
        "# Check the shape of the segmented features and labels\n",
        "print(\"Shape of segmented features:\", segmented_features.shape)\n",
        "print(\"Shape of regression_labels:\", regression_label.shape)\n",
        "print(\"Shape of classification_labels:\", classification_label.shape)\n"
      ],
      "metadata": {
        "colab": {
          "base_uri": "https://localhost:8080/"
        },
        "id": "t5pCKbPVU1XL",
        "outputId": "994f2db6-9134-4440-b35f-d15277750853"
      },
      "execution_count": 92,
      "outputs": [
        {
          "output_type": "stream",
          "name": "stdout",
          "text": [
            "Shape of segmented features: (785, 100, 38)\n",
            "Shape of regression_labels: (785,)\n",
            "Shape of classification_labels: (785,)\n"
          ]
        }
      ]
    },
    {
      "cell_type": "code",
      "execution_count": 124,
      "metadata": {
        "id": "J519IULAuQtK"
      },
      "outputs": [],
      "source": [
        "from sklearn.model_selection import train_test_split\n",
        "x_train,x_test,y_train_regression,y_test_regression,y_train_classification,y_test_classification = train_test_split(segmented_features,regression_label,classification_label,test_size=0.2, random_state=42)"
      ]
    },
    {
      "cell_type": "code",
      "source": [
        "print(x_train.shape)\n",
        "print(x_test.shape)\n",
        "print(y_train_regression.shape)\n",
        "print(y_test_regression.shape)\n",
        "print(y_train_classification.shape)\n",
        "print(y_test_classification.shape)"
      ],
      "metadata": {
        "colab": {
          "base_uri": "https://localhost:8080/"
        },
        "id": "i2tCFXqa6Rzu",
        "outputId": "dbdcd26a-eb13-4643-854b-125abfdcf8e6"
      },
      "execution_count": 125,
      "outputs": [
        {
          "output_type": "stream",
          "name": "stdout",
          "text": [
            "(628, 100, 38)\n",
            "(157, 100, 38)\n",
            "(628,)\n",
            "(157,)\n",
            "(628,)\n",
            "(157,)\n"
          ]
        }
      ]
    },
    {
      "cell_type": "code",
      "source": [
        "y_train_classification"
      ],
      "metadata": {
        "colab": {
          "base_uri": "https://localhost:8080/"
        },
        "id": "cZfaWkHVtMlU",
        "outputId": "5550cb0f-6c2e-42a5-bd34-e72e05110e9f"
      },
      "execution_count": 126,
      "outputs": [
        {
          "output_type": "execute_result",
          "data": {
            "text/plain": [
              "array([3, 2, 1, 4, 0, 1, 3, 4, 4, 4, 4, 2, 4, 3, 1, 0, 3, 2, 2, 4, 3, 4,\n",
              "       2, 3, 1, 0, 1, 3, 2, 1, 1, 4, 1, 1, 1, 3, 3, 0, 0, 1, 2, 1, 1, 1,\n",
              "       3, 2, 3, 0, 3, 1, 4, 2, 1, 4, 1, 0, 3, 1, 2, 2, 1, 0, 2, 2, 1, 3,\n",
              "       4, 3, 4, 3, 1, 3, 1, 2, 1, 2, 3, 3, 2, 2, 0, 3, 1, 1, 4, 0, 4, 3,\n",
              "       1, 1, 1, 4, 2, 4, 4, 2, 4, 3, 3, 4, 4, 2, 1, 0, 2, 1, 1, 2, 3, 1,\n",
              "       3, 2, 3, 4, 4, 0, 3, 3, 1, 0, 3, 1, 2, 0, 4, 1, 3, 4, 1, 1, 2, 1,\n",
              "       3, 1, 4, 0, 4, 3, 3, 1, 4, 1, 1, 1, 4, 4, 0, 1, 0, 0, 1, 0, 0, 2,\n",
              "       3, 3, 1, 4, 2, 3, 3, 0, 4, 0, 3, 4, 3, 1, 2, 1, 2, 0, 4, 4, 3, 4,\n",
              "       2, 2, 1, 3, 4, 4, 2, 1, 4, 3, 1, 1, 4, 2, 1, 4, 2, 2, 2, 1, 4, 1,\n",
              "       1, 4, 2, 2, 1, 4, 3, 4, 3, 2, 4, 1, 2, 0, 3, 0, 2, 2, 0, 1, 0, 4,\n",
              "       4, 0, 3, 2, 0, 2, 2, 3, 1, 3, 3, 0, 2, 2, 4, 4, 1, 1, 4, 3, 1, 3,\n",
              "       4, 4, 3, 1, 2, 4, 4, 4, 1, 1, 4, 4, 1, 0, 1, 3, 4, 4, 2, 3, 4, 1,\n",
              "       3, 1, 3, 2, 2, 1, 1, 4, 2, 3, 4, 1, 3, 3, 2, 3, 1, 4, 1, 1, 1, 2,\n",
              "       2, 4, 3, 0, 2, 4, 1, 1, 3, 4, 2, 3, 2, 1, 3, 1, 3, 3, 1, 0, 2, 2,\n",
              "       1, 1, 2, 2, 0, 3, 4, 3, 4, 2, 1, 4, 3, 1, 1, 2, 0, 0, 0, 0, 4, 0,\n",
              "       1, 4, 1, 4, 1, 4, 1, 1, 1, 4, 4, 1, 0, 4, 2, 4, 3, 3, 4, 2, 1, 2,\n",
              "       0, 2, 1, 4, 3, 3, 2, 1, 4, 3, 3, 4, 4, 0, 2, 4, 4, 0, 4, 4, 4, 1,\n",
              "       4, 1, 0, 4, 4, 1, 2, 0, 1, 3, 3, 1, 1, 1, 3, 4, 2, 4, 4, 1, 4, 1,\n",
              "       3, 2, 2, 4, 0, 0, 2, 2, 3, 1, 4, 4, 0, 3, 1, 1, 0, 4, 4, 3, 3, 2,\n",
              "       1, 1, 4, 1, 4, 2, 2, 2, 3, 1, 1, 2, 3, 2, 3, 4, 1, 3, 4, 4, 4, 2,\n",
              "       4, 4, 4, 4, 3, 4, 0, 2, 4, 3, 0, 1, 2, 4, 4, 3, 2, 4, 2, 3, 4, 3,\n",
              "       2, 2, 3, 3, 2, 4, 4, 3, 3, 0, 4, 4, 4, 4, 4, 4, 0, 0, 1, 2, 1, 0,\n",
              "       1, 0, 1, 4, 4, 4, 1, 0, 2, 0, 3, 0, 4, 2, 3, 3, 4, 2, 1, 4, 4, 4,\n",
              "       0, 1, 0, 3, 0, 1, 1, 2, 1, 1, 4, 2, 3, 3, 2, 3, 4, 3, 4, 0, 1, 1,\n",
              "       3, 4, 1, 4, 0, 1, 1, 1, 1, 3, 3, 2, 2, 1, 2, 2, 2, 3, 3, 4, 2, 2,\n",
              "       1, 0, 3, 4, 3, 1, 0, 3, 1, 4, 0, 1, 2, 1, 0, 3, 3, 3, 1, 2, 0, 3,\n",
              "       2, 1, 2, 4, 3, 2, 1, 4, 4, 3, 4, 0, 2, 0, 0, 4, 2, 4, 3, 4, 0, 1,\n",
              "       3, 0, 4, 2, 1, 2, 3, 1, 2, 2, 3, 3, 3, 3, 2, 4, 1, 4, 1, 3, 1, 3,\n",
              "       2, 2, 3, 1, 4, 1, 4, 1, 1, 2, 3, 1])"
            ]
          },
          "metadata": {},
          "execution_count": 126
        }
      ]
    },
    {
      "cell_type": "code",
      "source": [
        "import tensorflow as tf\n",
        "\n",
        "# Define the categories\n",
        "categories = ['None', 'Mild', 'Moderate', 'Moderately Severe', 'Severe']\n",
        "\n",
        "# Convert categories to one-hot encoded format\n",
        "y_train_classification_onehot = tf.keras.utils.to_categorical(y_train_classification, num_classes=len(categories))\n",
        "y_test_classification_onehot = tf.keras.utils.to_categorical(y_test_classification, num_classes=len(categories))\n"
      ],
      "metadata": {
        "id": "RpBKsUqrs042"
      },
      "execution_count": 127,
      "outputs": []
    },
    {
      "cell_type": "code",
      "source": [
        "y_test_classification_onehot.shape"
      ],
      "metadata": {
        "colab": {
          "base_uri": "https://localhost:8080/"
        },
        "id": "X7wDiUgBtBor",
        "outputId": "665dc48b-e96b-4afd-be5c-71a0d5e9ff2f"
      },
      "execution_count": 129,
      "outputs": [
        {
          "output_type": "execute_result",
          "data": {
            "text/plain": [
              "(157, 5)"
            ]
          },
          "metadata": {},
          "execution_count": 129
        }
      ]
    },
    {
      "cell_type": "code",
      "source": [
        "from tensorflow.keras import Sequential\n",
        "from tensorflow.keras.layers import Conv1D, Conv2D, MaxPooling2D, Flatten, Dense"
      ],
      "metadata": {
        "id": "tDKTXSN2-jw4"
      },
      "execution_count": 130,
      "outputs": []
    },
    {
      "cell_type": "code",
      "source": [
        "import tensorflow as tf\n",
        "\n",
        "# Define the CNN model\n",
        "def create_cnn_model(input_shape):\n",
        "    # Input layer\n",
        "    input_layer = tf.keras.layers.Input(shape=input_shape)\n",
        "\n",
        "    # Reshape layer to convert 1D data to 2D\n",
        "    reshape_layer = tf.keras.layers.Reshape((input_shape[0], input_shape[1], 1))(input_layer)\n",
        "\n",
        "    # First convolutional layers with different kernel sizes\n",
        "    conv1_5 = tf.keras.layers.Conv2D(50, (5, 5), strides=(3, 3), padding='same', activation='relu')(reshape_layer)\n",
        "    conv1_10 = tf.keras.layers.Conv2D(50, (10, 10), strides=(3, 3), padding='same', activation='relu')(reshape_layer)\n",
        "    conv1_15 = tf.keras.layers.Conv2D(50, (15, 15), strides=(3, 3), padding='same', activation='relu')(reshape_layer)\n",
        "\n",
        "    # Second convolutional layers with the output of the first convolutional layers\n",
        "    conv2_1 = tf.keras.layers.Conv2D(50, (3, 3), strides=(3, 3), padding='same', activation='relu')(conv1_5)\n",
        "    conv2_2 = tf.keras.layers.Conv2D(50, (3, 3), strides=(3, 3), padding='same', activation='relu')(conv1_10)\n",
        "    conv2_3 = tf.keras.layers.Conv2D(50, (3, 3), strides=(3, 3), padding='same', activation='relu')(conv1_15)\n",
        "\n",
        "    # Flatten and concatenate the outputs from each kernel of the second convolutional layers\n",
        "    flatten_1 = tf.keras.layers.Flatten()(conv2_1)\n",
        "    flatten_2 = tf.keras.layers.Flatten()(conv2_2)\n",
        "    flatten_3 = tf.keras.layers.Flatten()(conv2_3)\n",
        "    concatenate_layer = tf.keras.layers.concatenate([flatten_1, flatten_2, flatten_3])\n",
        "\n",
        "    # Fully connected layer\n",
        "    dense_layer = tf.keras.layers.Dense(150, activation='relu')(concatenate_layer)\n",
        "\n",
        "    # Output layer\n",
        "    regression_output = tf.keras.layers.Dense(1, activation='linear', name='regression_output')(dense_layer)\n",
        "\n",
        "    # Classification output layer\n",
        "    classification_output = tf.keras.layers.Dense(5, activation='softmax', name='classification_output')(dense_layer)\n",
        "\n",
        "    # Create the model\n",
        "    model = tf.keras.Model(inputs=input_layer, outputs=[regression_output, classification_output])\n",
        "\n",
        "    return model\n",
        "\n",
        "# Define the input shape based on the shape of a single segment\n",
        "input_shape = (100, 38)  # Shape of a single segment\n",
        "\n",
        "# Create the model\n",
        "model = create_cnn_model(input_shape)\n",
        "\n",
        "# Display model summary\n",
        "model.summary()"
      ],
      "metadata": {
        "colab": {
          "base_uri": "https://localhost:8080/"
        },
        "id": "aVdTQmfRMzWM",
        "outputId": "ecbebc07-0cfc-4dc5-dd90-8bd4ad23d572"
      },
      "execution_count": 131,
      "outputs": [
        {
          "output_type": "stream",
          "name": "stdout",
          "text": [
            "Model: \"model_3\"\n",
            "__________________________________________________________________________________________________\n",
            " Layer (type)                Output Shape                 Param #   Connected to                  \n",
            "==================================================================================================\n",
            " input_5 (InputLayer)        [(None, 100, 38)]            0         []                            \n",
            "                                                                                                  \n",
            " reshape_9 (Reshape)         (None, 100, 38, 1)           0         ['input_5[0][0]']             \n",
            "                                                                                                  \n",
            " conv2d_47 (Conv2D)          (None, 34, 13, 50)           1300      ['reshape_9[0][0]']           \n",
            "                                                                                                  \n",
            " conv2d_48 (Conv2D)          (None, 34, 13, 50)           5050      ['reshape_9[0][0]']           \n",
            "                                                                                                  \n",
            " conv2d_49 (Conv2D)          (None, 34, 13, 50)           11300     ['reshape_9[0][0]']           \n",
            "                                                                                                  \n",
            " conv2d_50 (Conv2D)          (None, 12, 5, 50)            22550     ['conv2d_47[0][0]']           \n",
            "                                                                                                  \n",
            " conv2d_51 (Conv2D)          (None, 12, 5, 50)            22550     ['conv2d_48[0][0]']           \n",
            "                                                                                                  \n",
            " conv2d_52 (Conv2D)          (None, 12, 5, 50)            22550     ['conv2d_49[0][0]']           \n",
            "                                                                                                  \n",
            " flatten_36 (Flatten)        (None, 3000)                 0         ['conv2d_50[0][0]']           \n",
            "                                                                                                  \n",
            " flatten_37 (Flatten)        (None, 3000)                 0         ['conv2d_51[0][0]']           \n",
            "                                                                                                  \n",
            " flatten_38 (Flatten)        (None, 3000)                 0         ['conv2d_52[0][0]']           \n",
            "                                                                                                  \n",
            " concatenate_3 (Concatenate  (None, 9000)                 0         ['flatten_36[0][0]',          \n",
            " )                                                                   'flatten_37[0][0]',          \n",
            "                                                                     'flatten_38[0][0]']          \n",
            "                                                                                                  \n",
            " dense_34 (Dense)            (None, 150)                  1350150   ['concatenate_3[0][0]']       \n",
            "                                                                                                  \n",
            " regression_output (Dense)   (None, 1)                    151       ['dense_34[0][0]']            \n",
            "                                                                                                  \n",
            " classification_output (Den  (None, 5)                    755       ['dense_34[0][0]']            \n",
            " se)                                                                                              \n",
            "                                                                                                  \n",
            "==================================================================================================\n",
            "Total params: 1436356 (5.48 MB)\n",
            "Trainable params: 1436356 (5.48 MB)\n",
            "Non-trainable params: 0 (0.00 Byte)\n",
            "__________________________________________________________________________________________________\n"
          ]
        }
      ]
    },
    {
      "cell_type": "code",
      "source": [
        "# Compile the model\n",
        "optimizer = tf.keras.optimizers.Adam(learning_rate=0.0005, beta_1=0.9, beta_2=0.99)\n",
        "model.compile(optimizer=optimizer,\n",
        "              loss={'regression_output': 'mean_squared_error', 'classification_output': 'categorical_crossentropy'},\n",
        "              loss_weights={'regression_output': 1.0, 'classification_output': 1.0},\n",
        "              metrics={'regression_output': 'mae', 'classification_output': 'accuracy'})\n",
        "\n",
        "# Train the model\n",
        "history = model.fit(x_train, {'regression_output': y_train_regression, 'classification_output': y_train_classification_onehot},\n",
        "                    validation_data=(x_test, {'regression_output': y_test_regression, 'classification_output': y_test_classification_onehot}),\n",
        "                    epochs=10, batch_size=32)\n"
      ],
      "metadata": {
        "colab": {
          "base_uri": "https://localhost:8080/"
        },
        "id": "IwO2U1wQfdQz",
        "outputId": "31fee59b-539e-49b7-b1ab-4398b6a1079b"
      },
      "execution_count": 135,
      "outputs": [
        {
          "output_type": "stream",
          "name": "stdout",
          "text": [
            "Epoch 1/10\n",
            "20/20 [==============================] - 27s 103ms/step - loss: 6.5790 - regression_output_loss: 6.0204 - classification_output_loss: 0.5586 - regression_output_mae: 1.9124 - classification_output_accuracy: 0.9076 - val_loss: 24.2485 - val_regression_output_loss: 23.1305 - val_classification_output_loss: 1.1179 - val_regression_output_mae: 3.6935 - val_classification_output_accuracy: 0.6306\n",
            "Epoch 2/10\n",
            "20/20 [==============================] - 2s 94ms/step - loss: 2.2594 - regression_output_loss: 1.7969 - classification_output_loss: 0.4625 - regression_output_mae: 1.0666 - classification_output_accuracy: 0.9904 - val_loss: 23.6915 - val_regression_output_loss: 22.6015 - val_classification_output_loss: 1.0899 - val_regression_output_mae: 3.6120 - val_classification_output_accuracy: 0.6369\n",
            "Epoch 3/10\n",
            "20/20 [==============================] - 2s 90ms/step - loss: 1.2611 - regression_output_loss: 0.8745 - classification_output_loss: 0.3866 - regression_output_mae: 0.7499 - classification_output_accuracy: 1.0000 - val_loss: 22.2699 - val_regression_output_loss: 21.1741 - val_classification_output_loss: 1.0958 - val_regression_output_mae: 3.5326 - val_classification_output_accuracy: 0.6178\n",
            "Epoch 4/10\n",
            "20/20 [==============================] - 2s 101ms/step - loss: 0.7408 - regression_output_loss: 0.4097 - classification_output_loss: 0.3310 - regression_output_mae: 0.5100 - classification_output_accuracy: 0.9984 - val_loss: 22.5441 - val_regression_output_loss: 21.4398 - val_classification_output_loss: 1.1043 - val_regression_output_mae: 3.5720 - val_classification_output_accuracy: 0.6242\n",
            "Epoch 5/10\n",
            "20/20 [==============================] - 2s 105ms/step - loss: 0.4271 - regression_output_loss: 0.1533 - classification_output_loss: 0.2738 - regression_output_mae: 0.3109 - classification_output_accuracy: 1.0000 - val_loss: 22.6475 - val_regression_output_loss: 21.5749 - val_classification_output_loss: 1.0726 - val_regression_output_mae: 3.5665 - val_classification_output_accuracy: 0.6369\n",
            "Epoch 6/10\n",
            "20/20 [==============================] - 2s 83ms/step - loss: 0.3152 - regression_output_loss: 0.0869 - classification_output_loss: 0.2283 - regression_output_mae: 0.2406 - classification_output_accuracy: 1.0000 - val_loss: 22.5974 - val_regression_output_loss: 21.5340 - val_classification_output_loss: 1.0635 - val_regression_output_mae: 3.5703 - val_classification_output_accuracy: 0.6306\n",
            "Epoch 7/10\n",
            "20/20 [==============================] - 2s 83ms/step - loss: 0.2784 - regression_output_loss: 0.0800 - classification_output_loss: 0.1984 - regression_output_mae: 0.2298 - classification_output_accuracy: 1.0000 - val_loss: 22.7302 - val_regression_output_loss: 21.6822 - val_classification_output_loss: 1.0480 - val_regression_output_mae: 3.5661 - val_classification_output_accuracy: 0.6369\n",
            "Epoch 8/10\n",
            "20/20 [==============================] - 2s 83ms/step - loss: 0.2188 - regression_output_loss: 0.0635 - classification_output_loss: 0.1554 - regression_output_mae: 0.2015 - classification_output_accuracy: 1.0000 - val_loss: 22.5990 - val_regression_output_loss: 21.5282 - val_classification_output_loss: 1.0708 - val_regression_output_mae: 3.5749 - val_classification_output_accuracy: 0.6306\n",
            "Epoch 9/10\n",
            "20/20 [==============================] - 2s 84ms/step - loss: 0.1955 - regression_output_loss: 0.0662 - classification_output_loss: 0.1293 - regression_output_mae: 0.2017 - classification_output_accuracy: 1.0000 - val_loss: 22.6240 - val_regression_output_loss: 21.5924 - val_classification_output_loss: 1.0316 - val_regression_output_mae: 3.5646 - val_classification_output_accuracy: 0.6561\n",
            "Epoch 10/10\n",
            "20/20 [==============================] - 2s 83ms/step - loss: 0.1578 - regression_output_loss: 0.0488 - classification_output_loss: 0.1091 - regression_output_mae: 0.1717 - classification_output_accuracy: 1.0000 - val_loss: 22.5980 - val_regression_output_loss: 21.5439 - val_classification_output_loss: 1.0541 - val_regression_output_mae: 3.5725 - val_classification_output_accuracy: 0.6369\n"
          ]
        }
      ]
    },
    {
      "cell_type": "code",
      "source": [
        "#Evaluate the model\n",
        "evaluation_results = model.evaluate(x_test,\n",
        "                                     {'regression_output': y_test_regression, 'classification_output': y_test_classification_onehot})\n",
        "\n",
        "# Unpack the evaluation results\n",
        "metrics = evaluation_results[0:]\n",
        "# Print the metrics\n",
        "for metric_name, metric_value in zip(model.metrics_names, metrics):\n",
        "    print(f\"{metric_name}: {metric_value}\")\n",
        "    if metric_name in 'regression_output_loss':\n",
        "      rmse_regression = np.sqrt(metric_value)\n",
        "      print(\"Regression RMSE: \",rmse_regression)\n",
        "    if metric_name in 'classification_output_loss':\n",
        "      rmse_classification = np.sqrt(metric_value)\n",
        "      print(\"Classification RMSE: \",rmse_classification)"
      ],
      "metadata": {
        "colab": {
          "base_uri": "https://localhost:8080/"
        },
        "id": "Z38SkWMmjR-E",
        "outputId": "a47c92fb-defa-43ae-eee1-dad406e534d4"
      },
      "execution_count": 137,
      "outputs": [
        {
          "output_type": "stream",
          "name": "stdout",
          "text": [
            "5/5 [==============================] - 0s 33ms/step - loss: 22.5980 - regression_output_loss: 21.5439 - classification_output_loss: 1.0541 - regression_output_mae: 3.5725 - classification_output_accuracy: 0.6369\n",
            "loss: 22.59796714782715\n",
            "Regression RMSE:  4.753731917959525\n",
            "Classification RMSE:  4.753731917959525\n",
            "regression_output_loss: 21.543895721435547\n",
            "Regression RMSE:  4.641540231586445\n",
            "classification_output_loss: 1.0540716648101807\n",
            "Classification RMSE:  1.0266799232527053\n",
            "regression_output_mae: 3.5724704265594482\n",
            "classification_output_accuracy: 0.6369426846504211\n"
          ]
        }
      ]
    },
    {
      "cell_type": "code",
      "source": [
        "# Make predictions\n",
        "predictions_regression, predictions_classification = model.predict(x_test)"
      ],
      "metadata": {
        "colab": {
          "base_uri": "https://localhost:8080/"
        },
        "id": "8OS5ad8kmDKi",
        "outputId": "a1f4eaa7-0c33-4a92-dff4-aeb6449e367e"
      },
      "execution_count": 138,
      "outputs": [
        {
          "output_type": "stream",
          "name": "stdout",
          "text": [
            "5/5 [==============================] - 0s 32ms/step\n"
          ]
        }
      ]
    },
    {
      "cell_type": "code",
      "source": [
        "# Plot the actual and predicted values for regression\n",
        "import matplotlib.pyplot as plt\n",
        "\n",
        "plt.figure(figsize=(10, 5))\n",
        "\n",
        "plt.subplot(1, 2, 1)\n",
        "plt.plot(y_test_regression, predictions_regression, 'bo', label='Actual vs Predicted')\n",
        "plt.xlabel('Actual')\n",
        "plt.ylabel('Predicted')\n",
        "plt.title('Regression')\n",
        "plt.legend()\n",
        "\n",
        "# Plot the actual and predicted categories for classification\n",
        "# Replace predictions_classification with the appropriate format of your predictions\n",
        "plt.subplot(1, 2, 2)\n",
        "plt.plot(y_test_classification, predictions_classification, 'ro', label='Actual vs Predicted')\n",
        "plt.xlabel('Actual')\n",
        "plt.ylabel('Predicted')\n",
        "plt.title('Classification')\n",
        "plt.legend()\n",
        "\n",
        "plt.show()"
      ],
      "metadata": {
        "colab": {
          "base_uri": "https://localhost:8080/",
          "height": 487
        },
        "id": "jGa_G9NSA5ny",
        "outputId": "6534954c-3211-4c6e-99c7-ed8d59b9e940"
      },
      "execution_count": 108,
      "outputs": [
        {
          "output_type": "display_data",
          "data": {
            "text/plain": [
              "<Figure size 1000x500 with 2 Axes>"
            ],
            "image/png": "[encoded data removed]"
          },
          "metadata": {}
        }
      ]
    },
    {
      "cell_type": "code",
      "source": [
        "predictions_classification"
      ],
      "metadata": {
        "colab": {
          "base_uri": "https://localhost:8080/"
        },
        "id": "duMP64dvrmRs",
        "outputId": "f5aab09f-db02-4a31-8555-82d9b93b43e0"
      },
      "execution_count": 140,
      "outputs": [
        {
          "output_type": "execute_result",
          "data": {
            "text/plain": [
              "array([[8.49368889e-03, 3.54530126e-01, 3.61312151e-01, 2.20811918e-01,\n",
              "        5.48521243e-02],\n",
              "       [5.90515882e-03, 8.47339988e-01, 9.18599367e-02, 4.30557728e-02,\n",
              "        1.18391020e-02],\n",
              "       [3.07114748e-03, 3.31020087e-01, 4.11972880e-01, 1.19890474e-01,\n",
              "        1.34045407e-01],\n",
              "       [1.73813961e-02, 5.29940069e-01, 3.14203769e-01, 9.84315202e-02,\n",
              "        4.00433578e-02],\n",
              "       [1.74201265e-01, 1.16522491e-01, 7.01667666e-01, 1.50290201e-03,\n",
              "        6.10562554e-03],\n",
              "       [1.74577651e-03, 2.18292639e-01, 5.94292700e-01, 4.93104421e-02,\n",
              "        1.36358500e-01],\n",
              "       [3.57591361e-01, 1.20982349e-01, 5.16992450e-01, 1.42966281e-03,\n",
              "        3.00430460e-03],\n",
              "       [7.58522365e-05, 4.50269617e-02, 1.42718405e-01, 1.76873684e-01,\n",
              "        6.35305107e-01],\n",
              "       [3.23130935e-03, 2.35914677e-01, 4.77697581e-01, 2.13432640e-01,\n",
              "        6.97237700e-02],\n",
              "       [3.20330001e-02, 5.48834264e-01, 3.12573582e-01, 9.44022611e-02,\n",
              "        1.21568777e-02],\n",
              "       [2.41424050e-03, 1.65928572e-01, 6.13411665e-01, 1.12977490e-01,\n",
              "        1.05267912e-01],\n",
              "       [7.50351744e-03, 2.49910206e-01, 5.35695076e-01, 1.41358033e-01,\n",
              "        6.55331239e-02],\n",
              "       [1.37467356e-02, 6.79745495e-01, 9.90965813e-02, 1.75145760e-01,\n",
              "        3.22654843e-02],\n",
              "       [7.48303160e-02, 4.26204115e-01, 4.21056002e-01, 5.92128262e-02,\n",
              "        1.86968818e-02],\n",
              "       [2.13555545e-02, 8.33971143e-01, 1.32725328e-01, 5.93652111e-03,\n",
              "        6.01141294e-03],\n",
              "       [5.21343062e-03, 7.50883341e-01, 1.46935895e-01, 7.67646804e-02,\n",
              "        2.02025194e-02],\n",
              "       [2.01683436e-02, 6.56672299e-01, 2.23957211e-01, 5.92650473e-02,\n",
              "        3.99370678e-02],\n",
              "       [1.85889087e-03, 2.77362555e-01, 2.22197101e-01, 4.59855109e-01,\n",
              "        3.87263857e-02],\n",
              "       [4.54245627e-01, 3.09601814e-01, 2.32280299e-01, 1.75932050e-03,\n",
              "        2.11296417e-03],\n",
              "       [1.04742376e-05, 1.54585121e-02, 1.57186419e-01, 8.24799761e-02,\n",
              "        7.44864583e-01],\n",
              "       [7.80828181e-04, 2.17471212e-01, 9.18867514e-02, 4.33508724e-01,\n",
              "        2.56352454e-01],\n",
              "       [2.71636038e-03, 3.96436661e-01, 2.68395543e-01, 2.06830114e-01,\n",
              "        1.25621304e-01],\n",
              "       [3.49478323e-05, 3.28730755e-02, 1.86138168e-01, 1.94775015e-01,\n",
              "        5.86178839e-01],\n",
              "       [2.15931726e-03, 1.56704560e-01, 5.31182647e-01, 2.46102393e-01,\n",
              "        6.38511553e-02],\n",
              "       [3.52917099e-03, 8.66346955e-01, 3.28999683e-02, 8.90876576e-02,\n",
              "        8.13622493e-03],\n",
              "       [4.65106592e-03, 2.04289705e-01, 4.72645700e-01, 2.61671096e-01,\n",
              "        5.67422882e-02],\n",
              "       [3.82624876e-06, 3.32041364e-03, 3.07589732e-02, 1.36173770e-01,\n",
              "        8.29742968e-01],\n",
              "       [1.25914623e-04, 8.32823068e-02, 2.38027573e-01, 2.06729934e-01,\n",
              "        4.71834213e-01],\n",
              "       [8.82655659e-05, 3.29912938e-02, 2.96050161e-01, 5.03417313e-01,\n",
              "        1.67452991e-01],\n",
              "       [8.69957688e-08, 1.30067137e-03, 1.28925417e-03, 9.66392159e-01,\n",
              "        3.10177635e-02],\n",
              "       [3.25216115e-06, 5.11040678e-03, 7.41665736e-02, 7.84982026e-01,\n",
              "        1.35737672e-01],\n",
              "       [4.74404544e-04, 2.20759481e-01, 1.65994406e-01, 4.46174294e-01,\n",
              "        1.66597381e-01],\n",
              "       [3.15193762e-03, 1.40839532e-01, 2.21257553e-01, 5.66568315e-01,\n",
              "        6.81827813e-02],\n",
              "       [5.56220982e-07, 1.60473457e-03, 1.34165846e-02, 4.20335531e-02,\n",
              "        9.42944467e-01],\n",
              "       [1.25061190e-02, 8.08244288e-01, 1.25631094e-01, 2.41685677e-02,\n",
              "        2.94499137e-02],\n",
              "       [3.21557559e-06, 7.62742804e-03, 5.96043654e-02, 2.39619568e-01,\n",
              "        6.93145394e-01],\n",
              "       [2.02345788e-01, 7.23669469e-01, 6.53307214e-02, 7.47245597e-03,\n",
              "        1.18150772e-03],\n",
              "       [7.76963215e-03, 4.58811164e-01, 4.21294540e-01, 5.58428876e-02,\n",
              "        5.62817715e-02],\n",
              "       [3.79640405e-04, 7.68346265e-02, 4.28230345e-01, 1.51750505e-01,\n",
              "        3.42804879e-01],\n",
              "       [6.69511559e-04, 1.34364679e-01, 1.81775719e-01, 5.28221190e-01,\n",
              "        1.54968917e-01],\n",
              "       [1.18999078e-03, 3.21113646e-01, 3.79326403e-01, 1.29208609e-01,\n",
              "        1.69161379e-01],\n",
              "       [4.53330576e-05, 1.11475602e-01, 9.92008597e-02, 6.45619810e-01,\n",
              "        1.43658474e-01],\n",
              "       [7.00864077e-01, 9.23873112e-02, 2.05731928e-01, 4.89285914e-04,\n",
              "        5.27472876e-04],\n",
              "       [8.35926257e-05, 6.95365444e-02, 1.14936098e-01, 1.90819070e-01,\n",
              "        6.24624729e-01],\n",
              "       [1.27003717e-04, 3.32281701e-02, 1.89642638e-01, 2.54190296e-01,\n",
              "        5.22811830e-01],\n",
              "       [8.15673161e-07, 2.44573178e-03, 4.54447307e-02, 2.89934218e-01,\n",
              "        6.62174582e-01],\n",
              "       [2.24343338e-03, 3.96769792e-01, 3.36946160e-01, 2.10948572e-01,\n",
              "        5.30921966e-02],\n",
              "       [2.93421149e-02, 5.07688701e-01, 3.56899977e-01, 7.58134350e-02,\n",
              "        3.02556679e-02],\n",
              "       [1.87010824e-04, 6.03099130e-02, 2.97515452e-01, 9.23276767e-02,\n",
              "        5.49659848e-01],\n",
              "       [1.06416494e-02, 5.79323471e-01, 2.97854751e-01, 6.23454340e-02,\n",
              "        4.98346835e-02],\n",
              "       [5.04133292e-04, 9.09961388e-02, 5.94923019e-01, 1.00873113e-02,\n",
              "        3.03489268e-01],\n",
              "       [1.19179873e-07, 6.96313975e-04, 3.96802835e-03, 2.90420763e-02,\n",
              "        9.66293454e-01],\n",
              "       [6.08930539e-04, 7.64199197e-02, 4.49002177e-01, 1.10407859e-01,\n",
              "        3.63561124e-01],\n",
              "       [5.93931088e-03, 6.58125699e-01, 9.20789465e-02, 2.04149455e-01,\n",
              "        3.97065245e-02],\n",
              "       [3.99042442e-02, 9.36240554e-01, 1.63743179e-02, 6.74226880e-03,\n",
              "        7.38625764e-04],\n",
              "       [1.07128581e-03, 8.25323015e-02, 4.78644460e-01, 2.46596813e-01,\n",
              "        1.91155225e-01],\n",
              "       [1.29178574e-03, 7.47154802e-02, 2.76478380e-01, 5.89217186e-01,\n",
              "        5.82972020e-02],\n",
              "       [8.40478316e-02, 6.81087494e-01, 1.75313339e-01, 5.33572733e-02,\n",
              "        6.19416358e-03],\n",
              "       [1.46763003e-03, 1.74142852e-01, 2.40020782e-01, 3.02050352e-01,\n",
              "        2.82318413e-01],\n",
              "       [7.75806159e-02, 2.39484474e-01, 6.28026485e-01, 4.42948341e-02,\n",
              "        1.06135886e-02],\n",
              "       [8.59145150e-02, 7.31901705e-01, 1.48019731e-01, 2.53581647e-02,\n",
              "        8.80595110e-03],\n",
              "       [1.68168563e-02, 2.61196494e-01, 5.85969150e-01, 9.31114107e-02,\n",
              "        4.29060757e-02],\n",
              "       [4.89032418e-02, 7.27722824e-01, 2.06287414e-01, 1.01869460e-02,\n",
              "        6.89951424e-03],\n",
              "       [6.35384058e-05, 9.60589666e-03, 2.26057485e-01, 1.91843256e-01,\n",
              "        5.72429776e-01],\n",
              "       [2.09655259e-02, 5.94883919e-01, 2.50391304e-01, 7.14574009e-02,\n",
              "        6.23017251e-02],\n",
              "       [1.18875885e-02, 5.40181339e-01, 2.81046063e-01, 8.95350054e-02,\n",
              "        7.73499832e-02],\n",
              "       [3.26284803e-02, 4.16953743e-01, 4.95844811e-01, 1.21598588e-02,\n",
              "        4.24131267e-02],\n",
              "       [4.92841934e-07, 1.16228149e-03, 1.36363506e-02, 7.87817657e-01,\n",
              "        1.97383180e-01],\n",
              "       [8.45714565e-03, 2.99766898e-01, 2.95247883e-01, 1.55234903e-01,\n",
              "        2.41293058e-01],\n",
              "       [4.91685467e-04, 1.85343921e-01, 2.73926884e-01, 2.68020868e-01,\n",
              "        2.72216588e-01],\n",
              "       [6.71461094e-05, 8.16430748e-02, 1.07938617e-01, 3.34113419e-01,\n",
              "        4.76237625e-01],\n",
              "       [1.64131791e-06, 3.17089586e-03, 3.80665213e-02, 1.91566065e-01,\n",
              "        7.67194808e-01],\n",
              "       [9.60095378e-04, 5.66728897e-02, 5.12223780e-01, 6.58220351e-02,\n",
              "        3.64321291e-01],\n",
              "       [4.88624070e-03, 2.98154444e-01, 3.25273484e-01, 1.11462153e-01,\n",
              "        2.60223746e-01],\n",
              "       [1.24113694e-06, 1.98805891e-03, 6.30633980e-02, 8.39649960e-02,\n",
              "        8.50982368e-01],\n",
              "       [1.63389114e-03, 3.23805064e-01, 1.72867030e-01, 3.72359008e-01,\n",
              "        1.29334956e-01],\n",
              "       [8.54904763e-03, 1.90598071e-01, 6.61018133e-01, 5.95043711e-02,\n",
              "        8.03303272e-02],\n",
              "       [3.66857148e-06, 1.29247811e-02, 8.29948857e-02, 4.80582900e-02,\n",
              "        8.56018305e-01],\n",
              "       [2.65417417e-04, 5.40069193e-02, 2.31019646e-01, 5.59712291e-01,\n",
              "        1.54995844e-01],\n",
              "       [3.62157216e-03, 3.23423445e-01, 3.39102238e-01, 1.84776649e-01,\n",
              "        1.49076134e-01],\n",
              "       [1.35262322e-03, 7.80365825e-01, 4.01213095e-02, 1.50343835e-01,\n",
              "        2.78164018e-02],\n",
              "       [7.48104602e-03, 4.27060515e-01, 4.30019885e-01, 6.72732741e-02,\n",
              "        6.81652874e-02],\n",
              "       [8.74680063e-06, 2.76367832e-02, 1.26978055e-01, 2.83626705e-01,\n",
              "        5.61749697e-01],\n",
              "       [1.45937433e-03, 1.27893701e-01, 4.42359298e-01, 3.05682063e-01,\n",
              "        1.22605592e-01],\n",
              "       [2.47993128e-04, 4.44562025e-02, 4.65419263e-01, 9.82020274e-02,\n",
              "        3.91674697e-01],\n",
              "       [1.52564039e-02, 6.88103199e-01, 1.89728975e-01, 7.31750801e-02,\n",
              "        3.37362923e-02],\n",
              "       [7.34157860e-02, 4.80578661e-01, 3.52831692e-01, 7.39071444e-02,\n",
              "        1.92667302e-02],\n",
              "       [3.24245775e-03, 1.26234785e-01, 3.02916139e-01, 4.36129659e-01,\n",
              "        1.31476879e-01],\n",
              "       [1.56111448e-04, 5.92619516e-02, 4.07774925e-01, 1.02147192e-01,\n",
              "        4.30659741e-01],\n",
              "       [3.19283307e-02, 3.34476024e-01, 5.69356441e-01, 1.14864847e-02,\n",
              "        5.27526885e-02],\n",
              "       [3.64853512e-03, 2.14215487e-01, 4.45327133e-01, 2.57575780e-01,\n",
              "        7.92329684e-02],\n",
              "       [1.77888479e-03, 1.21827170e-01, 4.64686453e-01, 1.77556694e-01,\n",
              "        2.34150797e-01],\n",
              "       [6.93410262e-02, 8.00156236e-01, 1.19420506e-01, 2.94272602e-03,\n",
              "        8.13949015e-03],\n",
              "       [3.01313004e-03, 4.08513457e-01, 3.70584518e-01, 1.49873182e-01,\n",
              "        6.80157468e-02],\n",
              "       [1.37912966e-02, 8.15253675e-01, 3.72820385e-02, 1.23336889e-01,\n",
              "        1.03362454e-02],\n",
              "       [5.33749675e-03, 2.34976143e-01, 4.32713658e-01, 1.46891981e-01,\n",
              "        1.80080712e-01],\n",
              "       [5.06051890e-07, 5.62720094e-03, 6.95981039e-03, 6.97882295e-01,\n",
              "        2.89530247e-01],\n",
              "       [1.72397253e-04, 5.04182726e-02, 2.98855662e-01, 1.75892875e-01,\n",
              "        4.74660695e-01],\n",
              "       [2.39311859e-01, 8.55463594e-02, 6.72241211e-01, 1.57852517e-03,\n",
              "        1.32194755e-03],\n",
              "       [9.97352647e-04, 1.26427382e-01, 6.69116318e-01, 7.41583407e-02,\n",
              "        1.29300609e-01],\n",
              "       [5.84214977e-05, 5.75297549e-02, 9.90072638e-02, 4.25206333e-01,\n",
              "        4.18198198e-01],\n",
              "       [4.89654690e-02, 5.77651560e-01, 2.80509651e-01, 6.16949536e-02,\n",
              "        3.11783869e-02],\n",
              "       [1.33951555e-03, 9.53365937e-02, 7.52237618e-01, 4.03361320e-02,\n",
              "        1.10750049e-01],\n",
              "       [1.52996753e-03, 4.74646725e-02, 5.88869810e-01, 2.43077084e-01,\n",
              "        1.19058371e-01],\n",
              "       [3.19249257e-02, 7.03414559e-01, 2.20048785e-01, 3.43566947e-02,\n",
              "        1.02549428e-02],\n",
              "       [5.15723042e-03, 1.68368548e-01, 5.82145214e-01, 1.79905683e-01,\n",
              "        6.44232854e-02],\n",
              "       [7.32749249e-05, 3.91172692e-02, 2.12856278e-01, 5.14977634e-01,\n",
              "        2.32975513e-01],\n",
              "       [2.19286259e-04, 1.00126438e-01, 1.25408903e-01, 3.63354832e-01,\n",
              "        4.10890520e-01],\n",
              "       [1.53144076e-01, 6.30135655e-01, 2.06466034e-01, 4.24969336e-03,\n",
              "        6.00445597e-03],\n",
              "       [2.50803587e-05, 5.10622263e-02, 8.18096772e-02, 2.12638929e-01,\n",
              "        6.54464126e-01],\n",
              "       [5.32322214e-04, 1.19236559e-01, 5.05047739e-01, 1.30312905e-01,\n",
              "        2.44870514e-01],\n",
              "       [3.27301095e-04, 2.82908417e-02, 1.68796644e-01, 5.28244317e-01,\n",
              "        2.74340808e-01],\n",
              "       [1.93089060e-02, 5.91582835e-01, 2.93265462e-01, 6.94755614e-02,\n",
              "        2.63672527e-02],\n",
              "       [4.52480526e-05, 3.79163586e-02, 2.41971508e-01, 3.83638978e-01,\n",
              "        3.36427867e-01],\n",
              "       [3.45914904e-03, 3.32865149e-01, 1.78562537e-01, 3.55175346e-01,\n",
              "        1.29937857e-01],\n",
              "       [4.29113489e-03, 1.02070183e-01, 7.33530104e-01, 2.79302597e-02,\n",
              "        1.32178247e-01],\n",
              "       [1.19625814e-01, 6.31588936e-01, 1.91097185e-01, 5.04624397e-02,\n",
              "        7.22552603e-03],\n",
              "       [2.36446969e-03, 3.25227380e-01, 3.31570566e-01, 2.63005227e-01,\n",
              "        7.78323933e-02],\n",
              "       [4.80500646e-02, 1.78633571e-01, 6.85125053e-01, 7.99669251e-02,\n",
              "        8.22433922e-03],\n",
              "       [5.38018696e-09, 1.08132146e-04, 1.84070691e-03, 3.06021184e-01,\n",
              "        6.92029953e-01],\n",
              "       [7.46545522e-03, 6.32923067e-01, 2.08392397e-01, 4.95925434e-02,\n",
              "        1.01626523e-01],\n",
              "       [8.27474923e-06, 1.91044006e-02, 7.17451572e-02, 8.40138435e-01,\n",
              "        6.90036491e-02],\n",
              "       [2.70262535e-06, 5.57789067e-03, 3.11384499e-02, 8.69446620e-02,\n",
              "        8.76336217e-01],\n",
              "       [1.65804906e-03, 2.43303940e-01, 4.97781336e-01, 1.96002096e-01,\n",
              "        6.12545758e-02],\n",
              "       [5.23654282e-01, 9.62625965e-02, 3.77470732e-01, 1.71103724e-03,\n",
              "        9.01293824e-04],\n",
              "       [2.72731613e-02, 8.45070541e-01, 8.96494836e-02, 2.84805782e-02,\n",
              "        9.52614285e-03],\n",
              "       [2.10343769e-05, 1.67808011e-02, 9.16952789e-02, 5.05180299e-01,\n",
              "        3.86322498e-01],\n",
              "       [9.09916271e-05, 8.77718329e-02, 3.95734496e-02, 7.49962270e-01,\n",
              "        1.22601539e-01],\n",
              "       [1.86751038e-02, 8.05184245e-01, 1.57307446e-01, 9.62823164e-03,\n",
              "        9.20494180e-03],\n",
              "       [2.40182417e-04, 1.77541107e-01, 1.45710632e-01, 8.47844556e-02,\n",
              "        5.91723621e-01],\n",
              "       [1.70214567e-04, 7.41945207e-02, 2.39190400e-01, 3.69968206e-01,\n",
              "        3.16476673e-01],\n",
              "       [1.06867424e-06, 3.99275823e-03, 9.20016970e-03, 8.49066556e-01,\n",
              "        1.37739405e-01],\n",
              "       [3.47611844e-04, 1.62692159e-01, 3.08716536e-01, 3.71447295e-01,\n",
              "        1.56796426e-01],\n",
              "       [1.70399353e-03, 2.26489261e-01, 2.95415103e-01, 1.60700157e-01,\n",
              "        3.15691471e-01],\n",
              "       [4.61108051e-02, 7.87272215e-01, 1.29711896e-01, 2.84874048e-02,\n",
              "        8.41757096e-03],\n",
              "       [7.72353495e-03, 2.87376583e-01, 6.04765117e-01, 2.92548649e-02,\n",
              "        7.08799064e-02],\n",
              "       [8.74553341e-03, 6.96390867e-01, 2.12340191e-01, 3.87920886e-02,\n",
              "        4.37311903e-02],\n",
              "       [4.36427108e-05, 2.60837767e-02, 1.25226051e-01, 5.00176787e-01,\n",
              "        3.48469734e-01],\n",
              "       [2.18064501e-03, 1.39025867e-01, 4.64537024e-01, 2.77012020e-01,\n",
              "        1.17244445e-01],\n",
              "       [1.37099149e-02, 2.98781544e-01, 5.38668692e-01, 9.86986831e-02,\n",
              "        5.01411371e-02],\n",
              "       [9.74122435e-03, 5.76350093e-01, 2.12066278e-01, 1.67696610e-01,\n",
              "        3.41457240e-02],\n",
              "       [2.31495487e-05, 1.30314864e-02, 1.65986478e-01, 4.38401878e-01,\n",
              "        3.82556975e-01],\n",
              "       [5.15371154e-04, 7.77242705e-02, 1.14187032e-01, 7.20505953e-01,\n",
              "        8.70673135e-02],\n",
              "       [1.28746161e-03, 1.68124169e-01, 3.11923891e-01, 8.61606747e-02,\n",
              "        4.32503879e-01],\n",
              "       [9.98423249e-03, 3.33295316e-01, 4.47669268e-01, 6.95905238e-02,\n",
              "        1.39460638e-01],\n",
              "       [9.98269297e-06, 3.08404025e-02, 9.53781679e-02, 1.88929677e-01,\n",
              "        6.84841812e-01],\n",
              "       [1.47793262e-05, 1.04763852e-02, 8.09051767e-02, 3.35401446e-01,\n",
              "        5.73202133e-01],\n",
              "       [5.12621818e-06, 1.02035301e-02, 3.47388312e-02, 8.08597982e-01,\n",
              "        1.46454468e-01],\n",
              "       [3.16217318e-02, 7.39766300e-01, 1.51780993e-01, 4.37666737e-02,\n",
              "        3.30643021e-02],\n",
              "       [6.45358628e-03, 1.92814201e-01, 6.81092978e-01, 5.39801829e-02,\n",
              "        6.56590685e-02],\n",
              "       [3.40632425e-07, 8.65689013e-04, 2.29040701e-02, 8.37493718e-01,\n",
              "        1.38736129e-01],\n",
              "       [1.75897866e-01, 6.89627469e-01, 1.15354300e-01, 1.14664482e-02,\n",
              "        7.65401125e-03],\n",
              "       [1.45663768e-02, 2.91299313e-01, 5.37069380e-01, 1.17206976e-01,\n",
              "        3.98578979e-02],\n",
              "       [2.76410822e-02, 8.61670613e-01, 7.81557560e-02, 2.92740632e-02,\n",
              "        3.25853238e-03],\n",
              "       [5.01983752e-03, 8.08896542e-01, 1.16305247e-01, 4.31989282e-02,\n",
              "        2.65794098e-02],\n",
              "       [1.32250255e-02, 1.91962585e-01, 4.56610203e-01, 3.05251360e-01,\n",
              "        3.29506993e-02],\n",
              "       [4.05454950e-04, 6.21042922e-02, 3.51498015e-02, 8.27430665e-01,\n",
              "        7.49098063e-02]], dtype=float32)"
            ]
          },
          "metadata": {},
          "execution_count": 140
        }
      ]
    },
    {
      "cell_type": "code",
      "source": [
        "# Assuming predictions_classification contains the output array you provided\n",
        "predicted_labels = np.argmax(predictions_classification, axis=1)\n",
        "predicted_labels"
      ],
      "metadata": {
        "colab": {
          "base_uri": "https://localhost:8080/"
        },
        "id": "zED0c8YLyQbw",
        "outputId": "6cae54d6-362e-4300-cc0b-bd3e471ea066"
      },
      "execution_count": 144,
      "outputs": [
        {
          "output_type": "execute_result",
          "data": {
            "text/plain": [
              "array([2, 1, 2, 1, 2, 2, 2, 4, 2, 1, 2, 2, 1, 1, 1, 1, 1, 3, 0, 4, 3, 1,\n",
              "       4, 2, 1, 2, 4, 4, 3, 3, 3, 3, 3, 4, 1, 4, 1, 1, 2, 3, 2, 3, 0, 4,\n",
              "       4, 4, 1, 1, 4, 1, 2, 4, 2, 1, 1, 2, 3, 1, 3, 2, 1, 2, 1, 4, 1, 1,\n",
              "       2, 3, 1, 2, 4, 4, 2, 2, 4, 3, 2, 4, 3, 2, 1, 2, 4, 2, 2, 1, 1, 3,\n",
              "       4, 2, 2, 2, 1, 1, 1, 2, 3, 4, 2, 2, 3, 1, 2, 2, 1, 2, 3, 4, 1, 4,\n",
              "       2, 3, 1, 3, 3, 2, 1, 2, 2, 4, 1, 3, 4, 2, 0, 1, 3, 3, 1, 4, 3, 3,\n",
              "       3, 4, 1, 2, 1, 3, 2, 2, 1, 3, 3, 4, 2, 4, 4, 3, 1, 2, 3, 1, 2, 1,\n",
              "       1, 2, 3])"
            ]
          },
          "metadata": {},
          "execution_count": 144
        }
      ]
    },
    {
      "cell_type": "code",
      "source": [
        "import tensorflow\n",
        "from tensorflow.keras import layers, Model\n",
        "from tensorflow.keras import backend as K\n",
        "\n",
        "# Define CNN model\n",
        "class DepressionCNN(Model):\n",
        "    def __init__(self):\n",
        "        super(DepressionCNN, self).__init__()\n",
        "        self.conv1 = layers.Conv1D(50, 5, activation='relu', padding='same')\n",
        "        self.conv2 = layers.Conv1D(50, 10, activation='relu', padding='same')\n",
        "        self.conv3 = layers.Conv1D(50, 15, activation='relu', padding='same')\n",
        "        self.conv4 = layers.Conv1D(50, 3, activation='relu', padding='same')\n",
        "        self.flatten = layers.Flatten()\n",
        "        self.fc1 = layers.Dense(150, activation='relu')\n",
        "        self.fc2 = layers.Dense(1)  # Output layer\n",
        "\n",
        "    def call(self, x):\n",
        "        x1 = self.conv1(x)\n",
        "        x2 = self.conv2(x)\n",
        "        x3 = self.conv3(x)\n",
        "        x4 = self.conv4(tf.concat([x1, x2, x3], axis=-1))  # Concatenate outputs of first three conv layers\n",
        "        x = self.flatten(x4)\n",
        "        x = self.fc1(x)\n",
        "        x = self.fc2(x)\n",
        "        return x\n",
        "\n",
        "# Instantiate the model\n",
        "model = DepressionCNN()\n",
        "\n",
        "# Define custom metric function for RMSE\n",
        "def root_mean_squared_error(y_true, y_pred):\n",
        "    return K.sqrt(K.mean(K.square(y_pred - y_true)))\n",
        "\n",
        "# Compile the model with custom metric\n",
        "model.compile(optimizer='adam', loss='mean_squared_error', metrics=[root_mean_squared_error])\n",
        "# Train the model\n",
        "model.fit(x_train, y_train, epochs=10, batch_size=32, validation_data=(x_test, y_test))\n",
        "\n",
        "y_pred = model.predict(x_test)\n",
        "\n",
        "# Calculate RMSE\n",
        "rmse = root_mean_squared_error(y_test, y_pred)\n",
        "print(\"Root Mean Squared Error:\", rmse)\n"
      ],
      "metadata": {
        "colab": {
          "base_uri": "https://localhost:8080/"
        },
        "id": "4MU09cme77RP",
        "outputId": "226b6c3e-6d70-4d31-e957-6060defb3c53"
      },
      "execution_count": 70,
      "outputs": [
        {
          "output_type": "stream",
          "name": "stdout",
          "text": [
            "Epoch 1/10\n",
            "20/20 [==============================] - 2s 39ms/step - loss: 62.5541 - root_mean_squared_error: 7.6612 - val_loss: 42.1604 - val_root_mean_squared_error: 6.4659\n",
            "Epoch 2/10\n",
            "20/20 [==============================] - 1s 30ms/step - loss: 23.3364 - root_mean_squared_error: 4.7360 - val_loss: 29.7238 - val_root_mean_squared_error: 5.4311\n",
            "Epoch 3/10\n",
            "20/20 [==============================] - 1s 30ms/step - loss: 11.9543 - root_mean_squared_error: 3.4302 - val_loss: 30.5268 - val_root_mean_squared_error: 5.5248\n",
            "Epoch 4/10\n",
            "20/20 [==============================] - 1s 30ms/step - loss: 5.8845 - root_mean_squared_error: 2.3757 - val_loss: 19.1090 - val_root_mean_squared_error: 4.3663\n",
            "Epoch 5/10\n",
            "20/20 [==============================] - 1s 30ms/step - loss: 3.1724 - root_mean_squared_error: 1.7262 - val_loss: 20.4216 - val_root_mean_squared_error: 4.5181\n",
            "Epoch 6/10\n",
            "20/20 [==============================] - 1s 30ms/step - loss: 1.2191 - root_mean_squared_error: 1.0987 - val_loss: 18.4075 - val_root_mean_squared_error: 4.2822\n",
            "Epoch 7/10\n",
            "20/20 [==============================] - 1s 30ms/step - loss: 0.7600 - root_mean_squared_error: 0.8514 - val_loss: 17.7854 - val_root_mean_squared_error: 4.2078\n",
            "Epoch 8/10\n",
            "20/20 [==============================] - 1s 30ms/step - loss: 0.4209 - root_mean_squared_error: 0.6414 - val_loss: 18.2526 - val_root_mean_squared_error: 4.2680\n",
            "Epoch 9/10\n",
            "20/20 [==============================] - 1s 30ms/step - loss: 0.2469 - root_mean_squared_error: 0.4874 - val_loss: 18.5056 - val_root_mean_squared_error: 4.2959\n",
            "Epoch 10/10\n",
            "20/20 [==============================] - 1s 31ms/step - loss: 0.3205 - root_mean_squared_error: 0.5364 - val_loss: 18.4959 - val_root_mean_squared_error: 4.2962\n",
            "5/5 [==============================] - 0s 11ms/step\n",
            "Root Mean Squared Error: tf.Tensor(9.346688469641943, shape=(), dtype=float64)\n"
          ]
        }
      ]
    },
    {
      "cell_type": "code",
      "source": [
        "model.summary()"
      ],
      "metadata": {
        "colab": {
          "base_uri": "https://localhost:8080/"
        },
        "id": "XlkRcliiX2fj",
        "outputId": "513ad027-9c28-4016-bc8f-76afb20c2dbd"
      },
      "execution_count": 54,
      "outputs": [
        {
          "output_type": "stream",
          "name": "stdout",
          "text": [
            "Model: \"depression_cnn_2\"\n",
            "_________________________________________________________________\n",
            " Layer (type)                Output Shape              Param #   \n",
            "=================================================================\n",
            " conv1d_33 (Conv1D)          multiple                  9550      \n",
            "                                                                 \n",
            " conv1d_34 (Conv1D)          multiple                  19050     \n",
            "                                                                 \n",
            " conv1d_35 (Conv1D)          multiple                  28550     \n",
            "                                                                 \n",
            " conv1d_36 (Conv1D)          multiple                  22550     \n",
            "                                                                 \n",
            " flatten_9 (Flatten)         multiple                  0         \n",
            "                                                                 \n",
            " dense_11 (Dense)            multiple                  750150    \n",
            "                                                                 \n",
            " dense_12 (Dense)            multiple                  151       \n",
            "                                                                 \n",
            "=================================================================\n",
            "Total params: 830001 (3.17 MB)\n",
            "Trainable params: 830001 (3.17 MB)\n",
            "Non-trainable params: 0 (0.00 Byte)\n",
            "_________________________________________________________________\n"
          ]
        }
      ]
    }
  ],
  "metadata": {
    "colab": {
      "provenance": [],
      "authorship_tag": "ABX9TyMT35BpLW3Lx6DUNLek0qRx",
      "include_colab_link": true
    },
    "kernelspec": {
      "display_name": "Python 3",
      "name": "python3"
    },
    "language_info": {
      "name": "python"
    }
  },
  "nbformat": 4,
  "nbformat_minor": 0
}